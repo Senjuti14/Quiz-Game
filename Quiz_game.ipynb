{
 "cells": [
  {
   "cell_type": "code",
   "execution_count": null,
   "metadata": {},
   "outputs": [
    {
     "name": "stdout",
     "output_type": "stream",
     "text": [
      "let's play a quiz game!\n"
     ]
    }
   ],
   "source": [
    "#Playing a Quiz!\n",
    "\n",
    "print(\"let's play a quiz game!\")\n",
    "\n",
    "#Quiz starts!\n",
    "\n",
    "score=0 \n",
    "\n",
    "q1= input(\"Which is the world's happiest country? \").lower()\n",
    "if q1 == \"finland\":\n",
    "    print(\"Correct!!\")\n",
    "    score +=1\n",
    "    \n",
    "else:\n",
    "    print(\"Wrong!\")\n",
    "      \n",
    "\n",
    "q2= input(\"What is the capital of Finland? \").lower()\n",
    "if q2 == \"helsinki\":\n",
    "    print(\"Correct!!\")\n",
    "    score +=1\n",
    "else:\n",
    "    print(\"Wrong!\")\n",
    "  \n",
    "\n",
    "q3= input(\"Is Finland a nordic country? \").lower()\n",
    "if q3 == \"yes\":\n",
    "    print(\"Correct!!\")\n",
    "    score +=1\n",
    "else:\n",
    "    print(\"Wrong!\")\n",
    " \n",
    "\n",
    "print (\"You have got \"+ str(score) + \" answers correct!\")\n",
    "    "
   ]
  },
  {
   "cell_type": "code",
   "execution_count": null,
   "metadata": {},
   "outputs": [],
   "source": []
  }
 ],
 "metadata": {
  "kernelspec": {
   "display_name": "Python 3",
   "language": "python",
   "name": "python3"
  },
  "language_info": {
   "codemirror_mode": {
    "name": "ipython",
    "version": 3
   },
   "file_extension": ".py",
   "mimetype": "text/x-python",
   "name": "python",
   "nbconvert_exporter": "python",
   "pygments_lexer": "ipython3",
   "version": "3.7.6"
  }
 },
 "nbformat": 4,
 "nbformat_minor": 4
}
